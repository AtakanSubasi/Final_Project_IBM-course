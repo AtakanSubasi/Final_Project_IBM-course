{
 "cells": [
  {
   "cell_type": "code",
   "execution_count": null,
   "id": "17932cc5-e052-4161-9abe-3b739cfda115",
   "metadata": {},
   "outputs": [],
   "source": [
    "# Open Source Tools for Data Science - Final Project\n",
    "\n",
    "This notebook aims to explore open-source tools used for data science. The content includes headings, tools, and simple calculations.\n",
    "\n",
    "                                                    "
   ]
  },
  {
   "cell_type": "code",
   "execution_count": 19,
   "id": "cd15201e-2632-4c8e-9e2e-da117a347200",
   "metadata": {},
   "outputs": [
    {
     "ename": "SyntaxError",
     "evalue": "invalid syntax (1278721779.py, line 2)",
     "output_type": "error",
     "traceback": [
      "\u001b[1;36m  Cell \u001b[1;32mIn[19], line 2\u001b[1;36m\u001b[0m\n\u001b[1;33m    In data science, there are several programming languages that are widely used for various tasks, such as data manipulation,\u001b[0m\n\u001b[1;37m       ^\u001b[0m\n\u001b[1;31mSyntaxError\u001b[0m\u001b[1;31m:\u001b[0m invalid syntax\n"
     ]
    }
   ],
   "source": [
    "## Data Science Languages\n",
    "In data science, there are several programming languages that are widely used for various tasks, such as data manipulation, \n",
    "machine learning, and visualization. \n",
    "Below is a list of some of the most commonly used programming languages in data science:\n",
    "1. **Python** - General-purpose language with extensive libraries for data science.\n",
    "2. **R** - Specialized in statistical computing and graphics.\n",
    "3. **SQL** - Used for data management and querying databases.\n",
    "4. **Java** - Popular for big data processing and backend systems.\n",
    "5. **Julia** - Known for high-performance numerical computing."
   ]
  },
  {
   "cell_type": "code",
   "execution_count": 5,
   "id": "3c135b10-ffb9-4307-bcb8-6ece8f0b7d37",
   "metadata": {},
   "outputs": [
    {
     "ename": "NameError",
     "evalue": "name 'NumPy' is not defined",
     "output_type": "error",
     "traceback": [
      "\u001b[1;31m---------------------------------------------------------------------------\u001b[0m",
      "\u001b[1;31mNameError\u001b[0m                                 Traceback (most recent call last)",
      "Cell \u001b[1;32mIn[5], line 2\u001b[0m\n\u001b[0;32m      1\u001b[0m \u001b[38;5;66;03m## Data Science Libraries\u001b[39;00m\n\u001b[1;32m----> 2\u001b[0m \u001b[38;5;241m-\u001b[39m NumPy\n\u001b[0;32m      3\u001b[0m \u001b[38;5;241m-\u001b[39m Pandas\n\u001b[0;32m      4\u001b[0m \u001b[38;5;241m-\u001b[39m Matplotlib\n",
      "\u001b[1;31mNameError\u001b[0m: name 'NumPy' is not defined"
     ]
    }
   ],
   "source": [
    "## Data Science Libraries\n",
    "Data science relies on several libraries that make data manipulation and analysis easier. Below are some of the most commonly used data science libraries:\n",
    "1. **NumPy** - Numerical operations and array manipulation.\n",
    "2. **Pandas** - Data manipulation and analysis.\n",
    "3. **Matplotlib** - Data visualization.\n",
    "4. **Seaborn** - Statistical data visualization.\n",
    "5. **Scikit-learn** - Machine learning algorithms and tools.\n",
    "6. **TensorFlow** - Deep learning and neural networks."
   ]
  },
  {
   "cell_type": "code",
   "execution_count": 7,
   "id": "127eb82b-b480-419a-9ea2-f7a0b2cc842e",
   "metadata": {},
   "outputs": [
    {
     "ename": "SyntaxError",
     "evalue": "invalid syntax (3760734388.py, line 2)",
     "output_type": "error",
     "traceback": [
      "\u001b[1;36m  Cell \u001b[1;32mIn[7], line 2\u001b[1;36m\u001b[0m\n\u001b[1;33m    | Tool       | Category         | Use Case                  |\u001b[0m\n\u001b[1;37m    ^\u001b[0m\n\u001b[1;31mSyntaxError\u001b[0m\u001b[1;31m:\u001b[0m invalid syntax\n"
     ]
    }
   ],
   "source": [
    "## Data Science Tools\n",
    "| Tool       | Category         | Use Case                   |\n",
    "|------------|------------------|----------------------------|\n",
    "| Jupyter    | Environment      | Data analysis, visualization |\n",
    "| GitHub     | Collaboration    | Code sharing, version control |\n",
    "| RStudio    | Environment      | R language analysis         |\n",
    "| TensorFlow | Library          | Deep learning               |\n",
    "| Pandas     | Library          | Data manipulation           |"
   ]
  },
  {
   "cell_type": "code",
   "execution_count": 9,
   "id": "62a9f856-6468-4765-8094-f42c1ef3d5de",
   "metadata": {},
   "outputs": [
    {
     "ename": "SyntaxError",
     "evalue": "invalid syntax (35533652.py, line 2)",
     "output_type": "error",
     "traceback": [
      "\u001b[1;36m  Cell \u001b[1;32mIn[9], line 2\u001b[1;36m\u001b[0m\n\u001b[1;33m    Below are some basic arithmetic expressions used in data science:\u001b[0m\n\u001b[1;37m          ^\u001b[0m\n\u001b[1;31mSyntaxError\u001b[0m\u001b[1;31m:\u001b[0m invalid syntax\n"
     ]
    }
   ],
   "source": [
    "## Arithmetic Expression Examples\n",
    "Below are some basic arithmetic expressions used in data science:\n",
    "- Addition (`+`)\n",
    "- Subtraction (`-`)\n",
    "- Multiplication (`*`)\n",
    "- Division (`/`)\n",
    "- Modulus (`%%`)"
   ]
  },
  {
   "cell_type": "code",
   "execution_count": 11,
   "id": "684bda50-9ad6-4dd4-8932-05e238dc293d",
   "metadata": {},
   "outputs": [
    {
     "name": "stdout",
     "output_type": "stream",
     "text": [
      "Total: 15\n",
      "Multiplication: 50\n"
     ]
    }
   ],
   "source": [
    "## Multiplying and adding numbers\n",
    "a = 5\n",
    "b = 10\n",
    "total = a + b\n",
    "multiplication = a * b\n",
    "print(\"Total:\", total)\n",
    "print(\"Multiplication:\", multiplication)"
   ]
  },
  {
   "cell_type": "code",
   "execution_count": 13,
   "id": "0b849c61-ea21-44ea-a2c4-3ea162703309",
   "metadata": {
    "scrolled": true
   },
   "outputs": [
    {
     "name": "stdout",
     "output_type": "stream",
     "text": [
      "150 minutes = 2 hours and 30 minutes\n"
     ]
    }
   ],
   "source": [
    "# Convert minutes to hours\n",
    "minutes = 150\n",
    "hours = minutes // 60\n",
    "remaining_minutes = minutes % 60\n",
    "print(f\"{minutes} minutes = {hours} hours and {remaining_minutes} minutes\")"
   ]
  },
  {
   "cell_type": "code",
   "execution_count": 15,
   "id": "705525b5-99cb-4552-88c6-414e9b601ed1",
   "metadata": {},
   "outputs": [
    {
     "ename": "SyntaxError",
     "evalue": "invalid syntax (1724912893.py, line 2)",
     "output_type": "error",
     "traceback": [
      "\u001b[1;36m  Cell \u001b[1;32mIn[15], line 2\u001b[1;36m\u001b[0m\n\u001b[1;33m    - Gain deeper knowledge in data science\u001b[0m\n\u001b[1;37m           ^\u001b[0m\n\u001b[1;31mSyntaxError\u001b[0m\u001b[1;31m:\u001b[0m invalid syntax\n"
     ]
    }
   ],
   "source": [
    "## Goals\n",
    "- Gain deeper knowledge in data science\n",
    "- Develop more projects using Python\n",
    "- Learn machine learning algorithms"
   ]
  },
  {
   "cell_type": "code",
   "execution_count": null,
   "id": "33814f3c-646d-4c4b-861c-8243a091e705",
   "metadata": {},
   "outputs": [],
   "source": [
    "## Objectives\n",
    "These are the main goals for the project:\n",
    "- Learn and implement open-source data science tools.\n",
    "- Develop proficiency in Python and Jupyter Notebook.\n",
    "- Gain hands-on experience with data visualization.\n",
    "- Explore machine learning algorithms."
   ]
  },
  {
   "cell_type": "code",
   "execution_count": 17,
   "id": "a6b72d39-680c-4f90-bac8-419f6f4607ac",
   "metadata": {},
   "outputs": [
    {
     "ename": "SyntaxError",
     "evalue": "invalid syntax (1444970152.py, line 2)",
     "output_type": "error",
     "traceback": [
      "\u001b[1;36m  Cell \u001b[1;32mIn[17], line 2\u001b[1;36m\u001b[0m\n\u001b[1;33m    This project was created by: Atakan Subası\u001b[0m\n\u001b[1;37m         ^\u001b[0m\n\u001b[1;31mSyntaxError\u001b[0m\u001b[1;31m:\u001b[0m invalid syntax\n"
     ]
    }
   ],
   "source": [
    "## Author\n",
    "This project was created by: Atakan Subası"
   ]
  }
 ],
 "metadata": {
  "kernelspec": {
   "display_name": "Python [conda env:base] *",
   "language": "python",
   "name": "conda-base-py"
  },
  "language_info": {
   "codemirror_mode": {
    "name": "ipython",
    "version": 3
   },
   "file_extension": ".py",
   "mimetype": "text/x-python",
   "name": "python",
   "nbconvert_exporter": "python",
   "pygments_lexer": "ipython3",
   "version": "3.12.7"
  }
 },
 "nbformat": 4,
 "nbformat_minor": 5
}
